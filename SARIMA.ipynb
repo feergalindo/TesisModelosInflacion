{
 "cells": [
  {
   "cell_type": "markdown",
   "metadata": {},
   "source": [
    "## Librerías"
   ]
  },
  {
   "cell_type": "code",
   "execution_count": 1,
   "metadata": {},
   "outputs": [
    {
     "name": "stderr",
     "output_type": "stream",
     "text": [
      "Warning message:\n",
      "“package ‘forecast’ was built under R version 3.4.2”Warning message in as.POSIXlt.POSIXct(Sys.time()):\n",
      "“unknown timezone 'zone/tz/2018c.1.0/zoneinfo/America/Mexico_City'”"
     ]
    }
   ],
   "source": [
    "library(data.table)\n",
    "library(ggplot2)\n",
    "library(forecast)"
   ]
  },
  {
   "cell_type": "markdown",
   "metadata": {},
   "source": [
    "## Lectura de datos"
   ]
  },
  {
   "cell_type": "code",
   "execution_count": 2,
   "metadata": {},
   "outputs": [
    {
     "data": {},
     "metadata": {},
     "output_type": "display_data"
    }
   ],
   "source": [
    "dt <- fread(\"variables_final.csv\")\n",
    "dt[, Fecha := as.Date(Fecha, format = \"%d/%m/%Y\")]\n",
    "\n",
    "ts_inpc <- ts(dt$INPC, start = 1997, frequency = 24)"
   ]
  },
  {
   "cell_type": "markdown",
   "metadata": {},
   "source": [
    "## Conjuntos de entrenamiento y prueba"
   ]
  },
  {
   "cell_type": "code",
   "execution_count": 3,
   "metadata": {
    "collapsed": true
   },
   "outputs": [],
   "source": [
    "train <- window(ts_inpc, start = 2001, end = c(2014, 24))\n",
    "test <- window(ts_inpc, start = 2015)"
   ]
  },
  {
   "cell_type": "markdown",
   "metadata": {},
   "source": [
    "## Modelo"
   ]
  },
  {
   "cell_type": "code",
   "execution_count": 4,
   "metadata": {},
   "outputs": [],
   "source": [
    "m <- Arima(train, order = c(2, 1, 2), seasonal = c(1, 0, 0), \n",
    "           include.mean = FALSE, include.drift = TRUE)\n",
    "\n",
    "# Series: train \n",
    "# ARIMA(2,1,2)(1,0,0)[24] with drift \n",
    "\n",
    "# Coefficients:\n",
    "#          ar1      ar2      ma1     ma2    sar1   drift\n",
    "#       1.3901  -0.7509  -1.1911  0.6909  0.6928  0.1529\n",
    "# s.e.  0.0964   0.0968   0.1048  0.1095  0.0393  0.0323\n",
    "\n",
    "# sigma^2 estimated as 0.02318:  log likelihood=150.38\n",
    "# AIC=-286.76   AICc=-286.41   BIC=-260.06"
   ]
  },
  {
   "cell_type": "markdown",
   "metadata": {},
   "source": [
    "## Predicciones"
   ]
  },
  {
   "cell_type": "code",
   "execution_count": 5,
   "metadata": {},
   "outputs": [
    {
     "name": "stdout",
     "output_type": "stream",
     "text": [
      "[1] 0.2288894\n"
     ]
    }
   ],
   "source": [
    "preds <- tail(dt, length(test))[, .(Fecha, INPC)]\n",
    "preds$pred <- NA\n",
    "preds$pred[1] <- as.numeric(forecast(m, 1)$mean)\n",
    "ends <- data.table(y = c(rep(2015, 24), rep(2016, 24), rep(2017, 23)),\n",
    "                   q = c(1:24, 1:24, 1:23))\n",
    "\n",
    "for (i in 1:(length(test) - 1)) {\n",
    "  mod <- Arima(window(ts_inpc, start = 2001, \n",
    "                      end = c(ends$y[i], ends$q[i])),\n",
    "               order = c(2, 1, 2), seasonal = c(1, 0, 0),\n",
    "               include.mean = FALSE, include.drift = TRUE)\n",
    "  preds$pred[i + 1] <- as.numeric(forecast(mod, 1)$mean)\n",
    "}\n",
    "\n",
    "preds_sp <- preds[Fecha != \"2017-01-17\"]\n",
    "test_rmse <- sqrt(mean((preds_sp$INPC - preds_sp$pred)^2))\n",
    "print(test_rmse)\n",
    "# 0.2288894"
   ]
  }
 ],
 "metadata": {
  "kernelspec": {
   "display_name": "R",
   "language": "R",
   "name": "ir"
  },
  "language_info": {
   "codemirror_mode": "r",
   "file_extension": ".r",
   "mimetype": "text/x-r-source",
   "name": "R",
   "pygments_lexer": "r",
   "version": "3.4.1"
  }
 },
 "nbformat": 4,
 "nbformat_minor": 2
}
